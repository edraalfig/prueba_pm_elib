{
  "nbformat": 4,
  "nbformat_minor": 0,
  "metadata": {
    "colab": {
      "provenance": [],
      "toc_visible": true,
      "authorship_tag": "ABX9TyN5Tqu2ELSvCg7TuonyTr5F",
      "include_colab_link": true
    },
    "kernelspec": {
      "name": "python3",
      "display_name": "Python 3"
    },
    "language_info": {
      "name": "python"
    }
  },
  "cells": [
    {
      "cell_type": "markdown",
      "metadata": {
        "id": "view-in-github",
        "colab_type": "text"
      },
      "source": [
        "<a href=\"https://colab.research.google.com/github/edraalfig/prueba_pm_elib/blob/main/prueba_pm_elib.ipynb\" target=\"_parent\"><img src=\"https://colab.research.google.com/assets/colab-badge.svg\" alt=\"Open In Colab\"/></a>"
      ]
    },
    {
      "cell_type": "code",
      "execution_count": 1,
      "metadata": {
        "colab": {
          "base_uri": "https://localhost:8080/"
        },
        "id": "yyAM1QVT0EFf",
        "outputId": "c0601b47-1e1c-4e56-8394-fac3f69ebf7b"
      },
      "outputs": [
        {
          "output_type": "stream",
          "name": "stdout",
          "text": [
            "Looking in indexes: https://pypi.org/simple, https://us-python.pkg.dev/colab-wheels/public/simple/\n",
            "Collecting PM_Elib\n",
            "  Downloading PM_Elib-0.0.1-py3-none-any.whl (6.1 kB)\n",
            "Requirement already satisfied: pandas in /usr/local/lib/python3.8/dist-packages (from PM_Elib) (1.3.5)\n",
            "Requirement already satisfied: numpy in /usr/local/lib/python3.8/dist-packages (from PM_Elib) (1.21.6)\n",
            "Requirement already satisfied: pytz>=2017.3 in /usr/local/lib/python3.8/dist-packages (from pandas->PM_Elib) (2022.6)\n",
            "Requirement already satisfied: python-dateutil>=2.7.3 in /usr/local/lib/python3.8/dist-packages (from pandas->PM_Elib) (2.8.2)\n",
            "Requirement already satisfied: six>=1.5 in /usr/local/lib/python3.8/dist-packages (from python-dateutil>=2.7.3->pandas->PM_Elib) (1.15.0)\n",
            "Installing collected packages: PM-Elib\n",
            "Successfully installed PM-Elib-0.0.1\n"
          ]
        }
      ],
      "source": [
        "pip install PM_Elib"
      ]
    },
    {
      "cell_type": "code",
      "source": [
        "from PM_Elib import process_file as pf\n",
        "\n",
        "fn=\"/content/prueba_log.csv\"\n",
        "days=0\n",
        "hours=\"08:00:00\"\n",
        "cost=150000\n",
        "\n",
        "res = pf(fn,days,hours,cost)\n",
        "\n",
        "print(\"Generalidades\")\n",
        "res[0][\"Generalidades\"]"
      ],
      "metadata": {
        "colab": {
          "base_uri": "https://localhost:8080/"
        },
        "id": "uFedFvz8xhSP",
        "outputId": "0991f15d-7f97-40c5-f343-08cc01044169"
      },
      "execution_count": 36,
      "outputs": [
        {
          "output_type": "stream",
          "name": "stdout",
          "text": [
            "Generalidades\n"
          ]
        },
        {
          "output_type": "execute_result",
          "data": {
            "text/plain": [
              "{'Path': '/content/prueba_log.csv',\n",
              " 'Rows': 29,\n",
              " 'Columns': 7,\n",
              " 'Cant. Casos': '5'}"
            ]
          },
          "metadata": {},
          "execution_count": 36
        }
      ]
    },
    {
      "cell_type": "code",
      "source": [
        "print(\"Marcacion inicial\")\n",
        "res[0][\"Marcacion inicial\"]"
      ],
      "metadata": {
        "colab": {
          "base_uri": "https://localhost:8080/"
        },
        "id": "Wle2uy9Qx6NG",
        "outputId": "39d84cbc-c45a-4dc5-bbe8-50c6d8cfbca3"
      },
      "execution_count": 37,
      "outputs": [
        {
          "output_type": "stream",
          "name": "stdout",
          "text": [
            "Marcacion inicial\n"
          ]
        },
        {
          "output_type": "execute_result",
          "data": {
            "text/plain": [
              "[5, 0, 0, 0, 0, 0, 1, 1, 2, 1, 0]"
            ]
          },
          "metadata": {},
          "execution_count": 37
        }
      ]
    },
    {
      "cell_type": "code",
      "source": [
        "print(\"Places\")\n",
        "res[0][\"Places\"]"
      ],
      "metadata": {
        "colab": {
          "base_uri": "https://localhost:8080/"
        },
        "id": "NP27C5f8x6Vv",
        "outputId": "55660e4d-17e3-44fb-825e-63b5bfb053ce"
      },
      "execution_count": 38,
      "outputs": [
        {
          "output_type": "stream",
          "name": "stdout",
          "text": [
            "Places\n"
          ]
        },
        {
          "output_type": "execute_result",
          "data": {
            "text/plain": [
              "['esp_trazado',\n",
              " 'esp_corte',\n",
              " 'esp_ensamble',\n",
              " 'esp_deshebrado',\n",
              " 'esp_lavado y secado',\n",
              " 'esp_empaquetado',\n",
              " 'rec1',\n",
              " 'rec2',\n",
              " 'rec3',\n",
              " 'rec4',\n",
              " 'fin']"
            ]
          },
          "metadata": {},
          "execution_count": 38
        }
      ]
    },
    {
      "cell_type": "code",
      "source": [
        "print(\"Transitions\")\n",
        "res[0][\"Transitions\"]"
      ],
      "metadata": {
        "colab": {
          "base_uri": "https://localhost:8080/"
        },
        "id": "lYCj2pW4x6cA",
        "outputId": "fa02b094-3296-48bb-92e9-14596d5fb4d1"
      },
      "execution_count": 39,
      "outputs": [
        {
          "output_type": "stream",
          "name": "stdout",
          "text": [
            "Transitions\n"
          ]
        },
        {
          "output_type": "execute_result",
          "data": {
            "text/plain": [
              "['trazado',\n",
              " 'corte',\n",
              " 'ensamble',\n",
              " 'deshebrado',\n",
              " 'lavado y secado',\n",
              " 'empaquetado']"
            ]
          },
          "metadata": {},
          "execution_count": 39
        }
      ]
    },
    {
      "cell_type": "code",
      "source": [
        "print(\"Filtrado secuencias\")\n",
        "res[0][\"Filtrado secuencias\"]"
      ],
      "metadata": {
        "colab": {
          "base_uri": "https://localhost:8080/"
        },
        "id": "UVVAakMLx6ee",
        "outputId": "ba51910c-e9a7-4e70-a658-0bb1af6f58b5"
      },
      "execution_count": 40,
      "outputs": [
        {
          "output_type": "stream",
          "name": "stdout",
          "text": [
            "Filtrado secuencias\n"
          ]
        },
        {
          "output_type": "execute_result",
          "data": {
            "text/plain": [
              "['trazado ➯ corte ➯ ensamble ➯ deshebrado ➯ lavado y secado ➯ empaquetado',\n",
              " 'trazado ➯ trazado ➯ corte ➯ ensamble ➯ deshebrado ➯ empaquetado',\n",
              " 'trazado ➯ corte ➯ ensamble ➯ lavado y secado ➯ empaquetado']"
            ]
          },
          "metadata": {},
          "execution_count": 40
        }
      ]
    },
    {
      "cell_type": "code",
      "source": [
        "print(\"Id_x_Variant\")\n",
        "res[0][\"Id_x_Variant\"]"
      ],
      "metadata": {
        "colab": {
          "base_uri": "https://localhost:8080/"
        },
        "id": "s3PwrQ3ix6g_",
        "outputId": "6f8bc9d8-f64b-4890-fd2b-4aff7a7666ae"
      },
      "execution_count": 41,
      "outputs": [
        {
          "output_type": "stream",
          "name": "stdout",
          "text": [
            "Id_x_Variant\n"
          ]
        },
        {
          "output_type": "execute_result",
          "data": {
            "text/plain": [
              "[[['lote 1', 'lote 2', 'lote 3'], 0], [['lote 4'], 1], [['lote 5'], 2]]"
            ]
          },
          "metadata": {},
          "execution_count": 41
        }
      ]
    },
    {
      "cell_type": "code",
      "source": [
        "print(\"D-\")\n",
        "res[0][\"D-\"]"
      ],
      "metadata": {
        "colab": {
          "base_uri": "https://localhost:8080/"
        },
        "id": "P1ELXcXfx6jm",
        "outputId": "91e1c0d3-87b7-4455-a9b7-4178190db5c9"
      },
      "execution_count": 42,
      "outputs": [
        {
          "output_type": "stream",
          "name": "stdout",
          "text": [
            "D-\n"
          ]
        },
        {
          "output_type": "execute_result",
          "data": {
            "text/plain": [
              "array([[1, 0, 0, 0, 0, 0, 1, 0, 0, 0, 0],\n",
              "       [0, 1, 0, 0, 0, 0, 1, 0, 0, 0, 0],\n",
              "       [0, 0, 1, 0, 0, 0, 1, 0, 0, 0, 0],\n",
              "       [0, 0, 0, 1, 0, 0, 0, 1, 0, 0, 0],\n",
              "       [0, 0, 0, 0, 1, 0, 0, 0, 1, 0, 0],\n",
              "       [0, 0, 0, 0, 0, 1, 0, 0, 0, 1, 0]], dtype=int32)"
            ]
          },
          "metadata": {},
          "execution_count": 42
        }
      ]
    },
    {
      "cell_type": "code",
      "source": [
        "print(\"D+\")\n",
        "res[0][\"D+\"]"
      ],
      "metadata": {
        "colab": {
          "base_uri": "https://localhost:8080/"
        },
        "id": "_QsXVtGyx6oX",
        "outputId": "894476fb-8ec0-405a-fa2f-c1e58f369779"
      },
      "execution_count": 43,
      "outputs": [
        {
          "output_type": "stream",
          "name": "stdout",
          "text": [
            "D+\n"
          ]
        },
        {
          "output_type": "execute_result",
          "data": {
            "text/plain": [
              "array([[1, 1, 0, 0, 0, 0, 1, 0, 0, 0, 0],\n",
              "       [0, 0, 1, 0, 0, 0, 1, 0, 0, 0, 0],\n",
              "       [0, 0, 0, 1, 1, 0, 1, 0, 0, 0, 0],\n",
              "       [0, 0, 0, 0, 1, 1, 0, 1, 0, 0, 0],\n",
              "       [0, 0, 0, 0, 0, 1, 0, 0, 1, 0, 0],\n",
              "       [0, 0, 0, 0, 0, 0, 0, 0, 0, 1, 1]], dtype=int32)"
            ]
          },
          "metadata": {},
          "execution_count": 43
        }
      ]
    },
    {
      "cell_type": "code",
      "source": [
        "print(\"D\")\n",
        "res[0][\"D\"]"
      ],
      "metadata": {
        "colab": {
          "base_uri": "https://localhost:8080/"
        },
        "id": "WqCtqPYwx6q-",
        "outputId": "716d213a-6d0c-4661-8502-6adf4cab65f8"
      },
      "execution_count": 44,
      "outputs": [
        {
          "output_type": "stream",
          "name": "stdout",
          "text": [
            "D\n"
          ]
        },
        {
          "output_type": "execute_result",
          "data": {
            "text/plain": [
              "array([[ 0,  1,  0,  0,  0,  0,  0,  0,  0,  0,  0],\n",
              "       [ 0, -1,  1,  0,  0,  0,  0,  0,  0,  0,  0],\n",
              "       [ 0,  0, -1,  1,  1,  0,  0,  0,  0,  0,  0],\n",
              "       [ 0,  0,  0, -1,  1,  1,  0,  0,  0,  0,  0],\n",
              "       [ 0,  0,  0,  0, -1,  1,  0,  0,  0,  0,  0],\n",
              "       [ 0,  0,  0,  0,  0, -1,  0,  0,  0,  0,  1]], dtype=int32)"
            ]
          },
          "metadata": {},
          "execution_count": 44
        }
      ]
    },
    {
      "cell_type": "code",
      "source": [
        "print(\"Action_x_Resource\")\n",
        "res[0][\"Action_x_Resource\"]"
      ],
      "metadata": {
        "colab": {
          "base_uri": "https://localhost:8080/"
        },
        "id": "JOl7XqYGx6tP",
        "outputId": "617bb8f6-aaec-447d-c5b5-f72d7e088c4a"
      },
      "execution_count": 45,
      "outputs": [
        {
          "output_type": "stream",
          "name": "stdout",
          "text": [
            "Action_x_Resource\n"
          ]
        },
        {
          "output_type": "execute_result",
          "data": {
            "text/plain": [
              "{'corte': {'Operario 1': 3,\n",
              "  'Operario 2': 2,\n",
              "  'Operario 3': 0,\n",
              "  'Operario 4': 0,\n",
              "  'Operario 5': 0,\n",
              "  'Operario 6': 0},\n",
              " 'deshebrado': {'Operario 1': 0,\n",
              "  'Operario 2': 0,\n",
              "  'Operario 3': 4,\n",
              "  'Operario 4': 0,\n",
              "  'Operario 5': 0,\n",
              "  'Operario 6': 0},\n",
              " 'empaquetado': {'Operario 1': 0,\n",
              "  'Operario 2': 0,\n",
              "  'Operario 3': 0,\n",
              "  'Operario 4': 0,\n",
              "  'Operario 5': 0,\n",
              "  'Operario 6': 5},\n",
              " 'ensamble': {'Operario 1': 3,\n",
              "  'Operario 2': 2,\n",
              "  'Operario 3': 0,\n",
              "  'Operario 4': 0,\n",
              "  'Operario 5': 0,\n",
              "  'Operario 6': 0},\n",
              " 'lavado y secado': {'Operario 1': 0,\n",
              "  'Operario 2': 0,\n",
              "  'Operario 3': 0,\n",
              "  'Operario 4': 2,\n",
              "  'Operario 5': 2,\n",
              "  'Operario 6': 0},\n",
              " 'trazado': {'Operario 1': 3,\n",
              "  'Operario 2': 3,\n",
              "  'Operario 3': 0,\n",
              "  'Operario 4': 0,\n",
              "  'Operario 5': 0,\n",
              "  'Operario 6': 0}}"
            ]
          },
          "metadata": {},
          "execution_count": 45
        }
      ]
    },
    {
      "cell_type": "code",
      "source": [
        "print(\"Marcacion\")\n",
        "res[0][\"Marcacion\"]"
      ],
      "metadata": {
        "colab": {
          "base_uri": "https://localhost:8080/"
        },
        "id": "vy90aGDDx6vn",
        "outputId": "3562179c-9817-42ad-c727-b4f9a6b772c8"
      },
      "execution_count": 46,
      "outputs": [
        {
          "output_type": "stream",
          "name": "stdout",
          "text": [
            "Marcacion\n"
          ]
        },
        {
          "output_type": "execute_result",
          "data": {
            "text/plain": [
              "{'transicion': {0: 'u0',\n",
              "  1: 'trazado',\n",
              "  2: 'trazado',\n",
              "  3: 'trazado',\n",
              "  4: 'trazado',\n",
              "  5: 'corte',\n",
              "  6: 'corte',\n",
              "  7: 'corte',\n",
              "  8: 'corte',\n",
              "  9: 'ensamble',\n",
              "  10: 'ensamble',\n",
              "  11: 'ensamble',\n",
              "  12: 'ensamble',\n",
              "  13: 'deshebrado',\n",
              "  14: 'deshebrado',\n",
              "  15: 'deshebrado',\n",
              "  16: 'deshebrado',\n",
              "  17: 'lavado y secado',\n",
              "  18: 'lavado y secado',\n",
              "  19: 'lavado y secado',\n",
              "  20: 'lavado y secado',\n",
              "  21: 'empaquetado',\n",
              "  22: 'empaquetado',\n",
              "  23: 'empaquetado',\n",
              "  24: 'empaquetado',\n",
              "  25: 'trazado',\n",
              "  26: 'trazado',\n",
              "  27: 'trazado',\n",
              "  28: 'trazado',\n",
              "  29: 'trazado',\n",
              "  30: 'corte',\n",
              "  31: 'trazado',\n",
              "  32: 'corte',\n",
              "  33: 'corte',\n",
              "  34: 'corte',\n",
              "  35: 'ensamble',\n",
              "  36: 'ensamble',\n",
              "  37: 'ensamble',\n",
              "  38: 'ensamble',\n",
              "  39: 'trazado',\n",
              "  40: 'deshebrado',\n",
              "  41: 'trazado',\n",
              "  42: 'corte',\n",
              "  43: 'ensamble',\n",
              "  44: 'deshebrado',\n",
              "  45: 'deshebrado',\n",
              "  46: 'corte',\n",
              "  47: 'ensamble',\n",
              "  48: 'lavado y secado',\n",
              "  49: 'lavado y secado',\n",
              "  50: 'deshebrado',\n",
              "  51: 'empaquetado',\n",
              "  52: 'empaquetado',\n",
              "  53: 'lavado y secado',\n",
              "  54: 'lavado y secado',\n",
              "  55: 'empaquetado',\n",
              "  56: 'empaquetado',\n",
              "  57: 'empaquetado',\n",
              "  58: 'empaquetado'},\n",
              " 'InicioFin': {0: 'Marca Inicial',\n",
              "  1: 'Inicio',\n",
              "  2: 'Inicio',\n",
              "  3: 'Fin',\n",
              "  4: 'Fin',\n",
              "  5: 'Inicio',\n",
              "  6: 'Inicio',\n",
              "  7: 'Fin',\n",
              "  8: 'Fin',\n",
              "  9: 'Inicio',\n",
              "  10: 'Inicio',\n",
              "  11: 'Fin',\n",
              "  12: 'Fin',\n",
              "  13: 'Inicio',\n",
              "  14: 'Fin',\n",
              "  15: 'Inicio',\n",
              "  16: 'Fin',\n",
              "  17: 'Inicio',\n",
              "  18: 'Inicio',\n",
              "  19: 'Fin',\n",
              "  20: 'Fin',\n",
              "  21: 'Inicio',\n",
              "  22: 'Fin',\n",
              "  23: 'Inicio',\n",
              "  24: 'Fin',\n",
              "  25: 'Inicio',\n",
              "  26: 'Fin',\n",
              "  27: 'Inicio',\n",
              "  28: 'Inicio',\n",
              "  29: 'Fin',\n",
              "  30: 'Inicio',\n",
              "  31: 'Fin',\n",
              "  32: 'Inicio',\n",
              "  33: 'Fin',\n",
              "  34: 'Fin',\n",
              "  35: 'Inicio',\n",
              "  36: 'Inicio',\n",
              "  37: 'Fin',\n",
              "  38: 'Fin',\n",
              "  39: 'Inicio',\n",
              "  40: 'Inicio',\n",
              "  41: 'Fin',\n",
              "  42: 'Inicio',\n",
              "  43: 'Inicio',\n",
              "  44: 'Fin',\n",
              "  45: 'Inicio',\n",
              "  46: 'Fin',\n",
              "  47: 'Fin',\n",
              "  48: 'Inicio',\n",
              "  49: 'Inicio',\n",
              "  50: 'Fin',\n",
              "  51: 'Inicio',\n",
              "  52: 'Fin',\n",
              "  53: 'Fin',\n",
              "  54: 'Fin',\n",
              "  55: 'Inicio',\n",
              "  56: 'Fin',\n",
              "  57: 'Inicio',\n",
              "  58: 'Fin'},\n",
              " 'esp_trazado': {0: 5,\n",
              "  1: 5,\n",
              "  2: 5,\n",
              "  3: 5,\n",
              "  4: 5,\n",
              "  5: 5,\n",
              "  6: 5,\n",
              "  7: 5,\n",
              "  8: 5,\n",
              "  9: 5,\n",
              "  10: 5,\n",
              "  11: 5,\n",
              "  12: 5,\n",
              "  13: 5,\n",
              "  14: 5,\n",
              "  15: 5,\n",
              "  16: 5,\n",
              "  17: 5,\n",
              "  18: 5,\n",
              "  19: 5,\n",
              "  20: 5,\n",
              "  21: 5,\n",
              "  22: 5,\n",
              "  23: 5,\n",
              "  24: 5,\n",
              "  25: 5,\n",
              "  26: 5,\n",
              "  27: 5,\n",
              "  28: 5,\n",
              "  29: 5,\n",
              "  30: 5,\n",
              "  31: 5,\n",
              "  32: 5,\n",
              "  33: 5,\n",
              "  34: 5,\n",
              "  35: 5,\n",
              "  36: 5,\n",
              "  37: 5,\n",
              "  38: 5,\n",
              "  39: 5,\n",
              "  40: 5,\n",
              "  41: 5,\n",
              "  42: 5,\n",
              "  43: 5,\n",
              "  44: 5,\n",
              "  45: 5,\n",
              "  46: 5,\n",
              "  47: 5,\n",
              "  48: 5,\n",
              "  49: 5,\n",
              "  50: 5,\n",
              "  51: 5,\n",
              "  52: 5,\n",
              "  53: 5,\n",
              "  54: 5,\n",
              "  55: 5,\n",
              "  56: 5,\n",
              "  57: 5,\n",
              "  58: 5},\n",
              " 'esp_corte': {0: 0,\n",
              "  1: 0,\n",
              "  2: 0,\n",
              "  3: 1,\n",
              "  4: 2,\n",
              "  5: 2,\n",
              "  6: 2,\n",
              "  7: 1,\n",
              "  8: 0,\n",
              "  9: 0,\n",
              "  10: 0,\n",
              "  11: 0,\n",
              "  12: 0,\n",
              "  13: 0,\n",
              "  14: 0,\n",
              "  15: 0,\n",
              "  16: 0,\n",
              "  17: 0,\n",
              "  18: 0,\n",
              "  19: 0,\n",
              "  20: 0,\n",
              "  21: 0,\n",
              "  22: 0,\n",
              "  23: 0,\n",
              "  24: 0,\n",
              "  25: 0,\n",
              "  26: 0,\n",
              "  27: 0,\n",
              "  28: 0,\n",
              "  29: 1,\n",
              "  30: 1,\n",
              "  31: 2,\n",
              "  32: 2,\n",
              "  33: 1,\n",
              "  34: 0,\n",
              "  35: 0,\n",
              "  36: 0,\n",
              "  37: 0,\n",
              "  38: 0,\n",
              "  39: 0,\n",
              "  40: 0,\n",
              "  41: 1,\n",
              "  42: 1,\n",
              "  43: 1,\n",
              "  44: 1,\n",
              "  45: 1,\n",
              "  46: 0,\n",
              "  47: 0,\n",
              "  48: 0,\n",
              "  49: 0,\n",
              "  50: 0,\n",
              "  51: 0,\n",
              "  52: 0,\n",
              "  53: 0,\n",
              "  54: 0,\n",
              "  55: 0,\n",
              "  56: 0,\n",
              "  57: 0,\n",
              "  58: 0},\n",
              " 'esp_ensamble': {0: 0,\n",
              "  1: 0,\n",
              "  2: 0,\n",
              "  3: 0,\n",
              "  4: 0,\n",
              "  5: 0,\n",
              "  6: 0,\n",
              "  7: 1,\n",
              "  8: 2,\n",
              "  9: 2,\n",
              "  10: 2,\n",
              "  11: 1,\n",
              "  12: 0,\n",
              "  13: 0,\n",
              "  14: 0,\n",
              "  15: 0,\n",
              "  16: 0,\n",
              "  17: 0,\n",
              "  18: 0,\n",
              "  19: 0,\n",
              "  20: 0,\n",
              "  21: 0,\n",
              "  22: 0,\n",
              "  23: 0,\n",
              "  24: 0,\n",
              "  25: 0,\n",
              "  26: 0,\n",
              "  27: 0,\n",
              "  28: 0,\n",
              "  29: 0,\n",
              "  30: 0,\n",
              "  31: 0,\n",
              "  32: 0,\n",
              "  33: 1,\n",
              "  34: 2,\n",
              "  35: 2,\n",
              "  36: 2,\n",
              "  37: 1,\n",
              "  38: 0,\n",
              "  39: 0,\n",
              "  40: 0,\n",
              "  41: 0,\n",
              "  42: 0,\n",
              "  43: 0,\n",
              "  44: 0,\n",
              "  45: 0,\n",
              "  46: 1,\n",
              "  47: 0,\n",
              "  48: 0,\n",
              "  49: 0,\n",
              "  50: 0,\n",
              "  51: 0,\n",
              "  52: 0,\n",
              "  53: 0,\n",
              "  54: 0,\n",
              "  55: 0,\n",
              "  56: 0,\n",
              "  57: 0,\n",
              "  58: 0},\n",
              " 'esp_deshebrado': {0: 0,\n",
              "  1: 0,\n",
              "  2: 0,\n",
              "  3: 0,\n",
              "  4: 0,\n",
              "  5: 0,\n",
              "  6: 0,\n",
              "  7: 0,\n",
              "  8: 0,\n",
              "  9: 0,\n",
              "  10: 0,\n",
              "  11: 1,\n",
              "  12: 2,\n",
              "  13: 2,\n",
              "  14: 1,\n",
              "  15: 1,\n",
              "  16: 0,\n",
              "  17: 0,\n",
              "  18: 0,\n",
              "  19: 0,\n",
              "  20: 0,\n",
              "  21: 0,\n",
              "  22: 0,\n",
              "  23: 0,\n",
              "  24: 0,\n",
              "  25: 0,\n",
              "  26: 0,\n",
              "  27: 0,\n",
              "  28: 0,\n",
              "  29: 0,\n",
              "  30: 0,\n",
              "  31: 0,\n",
              "  32: 0,\n",
              "  33: 0,\n",
              "  34: 0,\n",
              "  35: 0,\n",
              "  36: 0,\n",
              "  37: 1,\n",
              "  38: 2,\n",
              "  39: 2,\n",
              "  40: 2,\n",
              "  41: 2,\n",
              "  42: 2,\n",
              "  43: 2,\n",
              "  44: 1,\n",
              "  45: 1,\n",
              "  46: 1,\n",
              "  47: 1,\n",
              "  48: 1,\n",
              "  49: 1,\n",
              "  50: 0,\n",
              "  51: 0,\n",
              "  52: 0,\n",
              "  53: 0,\n",
              "  54: 0,\n",
              "  55: 0,\n",
              "  56: 0,\n",
              "  57: 0,\n",
              "  58: 0},\n",
              " 'esp_lavado y secado': {0: 0,\n",
              "  1: 0,\n",
              "  2: 0,\n",
              "  3: 0,\n",
              "  4: 0,\n",
              "  5: 0,\n",
              "  6: 0,\n",
              "  7: 0,\n",
              "  8: 0,\n",
              "  9: 0,\n",
              "  10: 0,\n",
              "  11: 0,\n",
              "  12: 0,\n",
              "  13: 0,\n",
              "  14: 1,\n",
              "  15: 1,\n",
              "  16: 2,\n",
              "  17: 2,\n",
              "  18: 2,\n",
              "  19: 1,\n",
              "  20: 0,\n",
              "  21: 0,\n",
              "  22: 0,\n",
              "  23: 0,\n",
              "  24: 0,\n",
              "  25: 0,\n",
              "  26: 0,\n",
              "  27: 0,\n",
              "  28: 0,\n",
              "  29: 0,\n",
              "  30: 0,\n",
              "  31: 0,\n",
              "  32: 0,\n",
              "  33: 0,\n",
              "  34: 0,\n",
              "  35: 0,\n",
              "  36: 0,\n",
              "  37: 0,\n",
              "  38: 0,\n",
              "  39: 0,\n",
              "  40: 0,\n",
              "  41: 0,\n",
              "  42: 0,\n",
              "  43: 0,\n",
              "  44: 1,\n",
              "  45: 1,\n",
              "  46: 1,\n",
              "  47: 2,\n",
              "  48: 2,\n",
              "  49: 2,\n",
              "  50: 2,\n",
              "  51: 2,\n",
              "  52: 2,\n",
              "  53: 1,\n",
              "  54: 0,\n",
              "  55: 0,\n",
              "  56: 0,\n",
              "  57: 0,\n",
              "  58: 0},\n",
              " 'esp_empaquetado': {0: 0,\n",
              "  1: 0,\n",
              "  2: 0,\n",
              "  3: 0,\n",
              "  4: 0,\n",
              "  5: 0,\n",
              "  6: 0,\n",
              "  7: 0,\n",
              "  8: 0,\n",
              "  9: 0,\n",
              "  10: 0,\n",
              "  11: 0,\n",
              "  12: 0,\n",
              "  13: 0,\n",
              "  14: 0,\n",
              "  15: 0,\n",
              "  16: 0,\n",
              "  17: 0,\n",
              "  18: 0,\n",
              "  19: 1,\n",
              "  20: 2,\n",
              "  21: 2,\n",
              "  22: 1,\n",
              "  23: 1,\n",
              "  24: 0,\n",
              "  25: 0,\n",
              "  26: 0,\n",
              "  27: 0,\n",
              "  28: 0,\n",
              "  29: 0,\n",
              "  30: 0,\n",
              "  31: 0,\n",
              "  32: 0,\n",
              "  33: 0,\n",
              "  34: 0,\n",
              "  35: 0,\n",
              "  36: 0,\n",
              "  37: 0,\n",
              "  38: 0,\n",
              "  39: 0,\n",
              "  40: 0,\n",
              "  41: 0,\n",
              "  42: 0,\n",
              "  43: 0,\n",
              "  44: 0,\n",
              "  45: 0,\n",
              "  46: 0,\n",
              "  47: 0,\n",
              "  48: 0,\n",
              "  49: 0,\n",
              "  50: 1,\n",
              "  51: 1,\n",
              "  52: 0,\n",
              "  53: 1,\n",
              "  54: 2,\n",
              "  55: 2,\n",
              "  56: 1,\n",
              "  57: 1,\n",
              "  58: 0},\n",
              " 'rec1': {0: 2,\n",
              "  1: 1,\n",
              "  2: 0,\n",
              "  3: 1,\n",
              "  4: 2,\n",
              "  5: 1,\n",
              "  6: 0,\n",
              "  7: 1,\n",
              "  8: 2,\n",
              "  9: 1,\n",
              "  10: 0,\n",
              "  11: 1,\n",
              "  12: 2,\n",
              "  13: 2,\n",
              "  14: 2,\n",
              "  15: 2,\n",
              "  16: 2,\n",
              "  17: 2,\n",
              "  18: 2,\n",
              "  19: 2,\n",
              "  20: 2,\n",
              "  21: 2,\n",
              "  22: 2,\n",
              "  23: 2,\n",
              "  24: 2,\n",
              "  25: 1,\n",
              "  26: 2,\n",
              "  27: 1,\n",
              "  28: 0,\n",
              "  29: 1,\n",
              "  30: 0,\n",
              "  31: 1,\n",
              "  32: 0,\n",
              "  33: 1,\n",
              "  34: 2,\n",
              "  35: 1,\n",
              "  36: 0,\n",
              "  37: 1,\n",
              "  38: 2,\n",
              "  39: 1,\n",
              "  40: 1,\n",
              "  41: 2,\n",
              "  42: 1,\n",
              "  43: 0,\n",
              "  44: 0,\n",
              "  45: 0,\n",
              "  46: 1,\n",
              "  47: 2,\n",
              "  48: 2,\n",
              "  49: 2,\n",
              "  50: 2,\n",
              "  51: 2,\n",
              "  52: 2,\n",
              "  53: 2,\n",
              "  54: 2,\n",
              "  55: 2,\n",
              "  56: 2,\n",
              "  57: 2,\n",
              "  58: 2},\n",
              " 'rec2': {0: 1,\n",
              "  1: 1,\n",
              "  2: 1,\n",
              "  3: 1,\n",
              "  4: 1,\n",
              "  5: 1,\n",
              "  6: 1,\n",
              "  7: 1,\n",
              "  8: 1,\n",
              "  9: 1,\n",
              "  10: 1,\n",
              "  11: 1,\n",
              "  12: 1,\n",
              "  13: 0,\n",
              "  14: 1,\n",
              "  15: 0,\n",
              "  16: 1,\n",
              "  17: 1,\n",
              "  18: 1,\n",
              "  19: 1,\n",
              "  20: 1,\n",
              "  21: 1,\n",
              "  22: 1,\n",
              "  23: 1,\n",
              "  24: 1,\n",
              "  25: 1,\n",
              "  26: 1,\n",
              "  27: 1,\n",
              "  28: 1,\n",
              "  29: 1,\n",
              "  30: 1,\n",
              "  31: 1,\n",
              "  32: 1,\n",
              "  33: 1,\n",
              "  34: 1,\n",
              "  35: 1,\n",
              "  36: 1,\n",
              "  37: 1,\n",
              "  38: 1,\n",
              "  39: 1,\n",
              "  40: 0,\n",
              "  41: 0,\n",
              "  42: 0,\n",
              "  43: 0,\n",
              "  44: 1,\n",
              "  45: 0,\n",
              "  46: 0,\n",
              "  47: 0,\n",
              "  48: 0,\n",
              "  49: 0,\n",
              "  50: 1,\n",
              "  51: 1,\n",
              "  52: 1,\n",
              "  53: 1,\n",
              "  54: 1,\n",
              "  55: 1,\n",
              "  56: 1,\n",
              "  57: 1,\n",
              "  58: 1},\n",
              " 'rec3': {0: 2,\n",
              "  1: 2,\n",
              "  2: 2,\n",
              "  3: 2,\n",
              "  4: 2,\n",
              "  5: 2,\n",
              "  6: 2,\n",
              "  7: 2,\n",
              "  8: 2,\n",
              "  9: 2,\n",
              "  10: 2,\n",
              "  11: 2,\n",
              "  12: 2,\n",
              "  13: 2,\n",
              "  14: 2,\n",
              "  15: 2,\n",
              "  16: 2,\n",
              "  17: 1,\n",
              "  18: 0,\n",
              "  19: 1,\n",
              "  20: 2,\n",
              "  21: 2,\n",
              "  22: 2,\n",
              "  23: 2,\n",
              "  24: 2,\n",
              "  25: 2,\n",
              "  26: 2,\n",
              "  27: 2,\n",
              "  28: 2,\n",
              "  29: 2,\n",
              "  30: 2,\n",
              "  31: 2,\n",
              "  32: 2,\n",
              "  33: 2,\n",
              "  34: 2,\n",
              "  35: 2,\n",
              "  36: 2,\n",
              "  37: 2,\n",
              "  38: 2,\n",
              "  39: 2,\n",
              "  40: 2,\n",
              "  41: 2,\n",
              "  42: 2,\n",
              "  43: 2,\n",
              "  44: 2,\n",
              "  45: 2,\n",
              "  46: 2,\n",
              "  47: 2,\n",
              "  48: 1,\n",
              "  49: 0,\n",
              "  50: 0,\n",
              "  51: 0,\n",
              "  52: 0,\n",
              "  53: 1,\n",
              "  54: 2,\n",
              "  55: 2,\n",
              "  56: 2,\n",
              "  57: 2,\n",
              "  58: 2},\n",
              " 'rec4': {0: 1,\n",
              "  1: 1,\n",
              "  2: 1,\n",
              "  3: 1,\n",
              "  4: 1,\n",
              "  5: 1,\n",
              "  6: 1,\n",
              "  7: 1,\n",
              "  8: 1,\n",
              "  9: 1,\n",
              "  10: 1,\n",
              "  11: 1,\n",
              "  12: 1,\n",
              "  13: 1,\n",
              "  14: 1,\n",
              "  15: 1,\n",
              "  16: 1,\n",
              "  17: 1,\n",
              "  18: 1,\n",
              "  19: 1,\n",
              "  20: 1,\n",
              "  21: 0,\n",
              "  22: 1,\n",
              "  23: 0,\n",
              "  24: 1,\n",
              "  25: 1,\n",
              "  26: 1,\n",
              "  27: 1,\n",
              "  28: 1,\n",
              "  29: 1,\n",
              "  30: 1,\n",
              "  31: 1,\n",
              "  32: 1,\n",
              "  33: 1,\n",
              "  34: 1,\n",
              "  35: 1,\n",
              "  36: 1,\n",
              "  37: 1,\n",
              "  38: 1,\n",
              "  39: 1,\n",
              "  40: 1,\n",
              "  41: 1,\n",
              "  42: 1,\n",
              "  43: 1,\n",
              "  44: 1,\n",
              "  45: 1,\n",
              "  46: 1,\n",
              "  47: 1,\n",
              "  48: 1,\n",
              "  49: 1,\n",
              "  50: 1,\n",
              "  51: 0,\n",
              "  52: 1,\n",
              "  53: 1,\n",
              "  54: 1,\n",
              "  55: 0,\n",
              "  56: 1,\n",
              "  57: 0,\n",
              "  58: 1},\n",
              " 'fin': {0: 0,\n",
              "  1: 0,\n",
              "  2: 0,\n",
              "  3: 0,\n",
              "  4: 0,\n",
              "  5: 0,\n",
              "  6: 0,\n",
              "  7: 0,\n",
              "  8: 0,\n",
              "  9: 0,\n",
              "  10: 0,\n",
              "  11: 0,\n",
              "  12: 0,\n",
              "  13: 0,\n",
              "  14: 0,\n",
              "  15: 0,\n",
              "  16: 0,\n",
              "  17: 0,\n",
              "  18: 0,\n",
              "  19: 0,\n",
              "  20: 0,\n",
              "  21: 0,\n",
              "  22: 1,\n",
              "  23: 1,\n",
              "  24: 2,\n",
              "  25: 2,\n",
              "  26: 2,\n",
              "  27: 2,\n",
              "  28: 2,\n",
              "  29: 2,\n",
              "  30: 2,\n",
              "  31: 2,\n",
              "  32: 2,\n",
              "  33: 2,\n",
              "  34: 2,\n",
              "  35: 2,\n",
              "  36: 2,\n",
              "  37: 2,\n",
              "  38: 2,\n",
              "  39: 2,\n",
              "  40: 2,\n",
              "  41: 2,\n",
              "  42: 2,\n",
              "  43: 2,\n",
              "  44: 2,\n",
              "  45: 2,\n",
              "  46: 2,\n",
              "  47: 2,\n",
              "  48: 2,\n",
              "  49: 2,\n",
              "  50: 2,\n",
              "  51: 2,\n",
              "  52: 3,\n",
              "  53: 3,\n",
              "  54: 3,\n",
              "  55: 3,\n",
              "  56: 4,\n",
              "  57: 4,\n",
              "  58: 5}}"
            ]
          },
          "metadata": {},
          "execution_count": 46
        }
      ]
    },
    {
      "cell_type": "code",
      "source": [
        "print(\"Cuello de botella\")\n",
        "res[0][\"Cuello de botella\"]"
      ],
      "metadata": {
        "colab": {
          "base_uri": "https://localhost:8080/"
        },
        "id": "psjQhFj5x6yP",
        "outputId": "3116030e-906f-42cd-e8b0-867bf13b291a"
      },
      "execution_count": 47,
      "outputs": [
        {
          "output_type": "stream",
          "name": "stdout",
          "text": [
            "Cuello de botella\n"
          ]
        },
        {
          "output_type": "execute_result",
          "data": {
            "text/plain": [
              "{'Lugar de Espera': {0: 'esp_trazado',\n",
              "  1: 'esp_corte',\n",
              "  2: 'esp_ensamble',\n",
              "  3: 'esp_deshebrado',\n",
              "  4: 'esp_lavado y secado',\n",
              "  5: 'esp_empaquetado'},\n",
              " 'Ocur. de Cuello Botella ': {0: 6, 1: 2, 2: 2, 3: 2, 4: 2, 5: 2},\n",
              " 'Mayor Cant. En Espera': {0: 5, 1: 2, 2: 2, 3: 2, 4: 2, 5: 2},\n",
              " 'Recurso': {0: 'rec1', 1: 'rec1', 2: 'rec1', 3: 'rec2', 4: 'rec3', 5: 'rec4'},\n",
              " 'Rec. Iniciales por Actividad': {0: 2, 1: 2, 2: 2, 3: 1, 4: 2, 5: 1},\n",
              " 'Cant. Rec. en 0': {0: 2, 1: 3, 2: 3, 3: 4, 4: 2, 5: 5},\n",
              " 'Cant. Prom. Rec. Disp.': {0: 1, 1: 0, 2: 0, 3: 0, 4: 0, 5: 0}}"
            ]
          },
          "metadata": {},
          "execution_count": 47
        }
      ]
    },
    {
      "cell_type": "code",
      "source": [
        "print(\"Consejos_0\")\n",
        "res[0][\"Consejos_0\"]"
      ],
      "metadata": {
        "colab": {
          "base_uri": "https://localhost:8080/"
        },
        "id": "Azi4WD0gx603",
        "outputId": "da85c7e9-e3c0-4c02-869e-0eee1e8023fc"
      },
      "execution_count": 48,
      "outputs": [
        {
          "output_type": "stream",
          "name": "stdout",
          "text": [
            "Consejos_0\n"
          ]
        },
        {
          "output_type": "execute_result",
          "data": {
            "text/plain": [
              "['Se recomienda que para la actividad DESHEBRADO se aumente la cantidad de recursos ya que, todos los recursos son ocupados por un 80.0% de los casos',\n",
              " 'Se recomienda que para la actividad EMPAQUETADO se aumente la cantidad de recursos ya que, todos los recursos son ocupados por un 100.0% de los casos']"
            ]
          },
          "metadata": {},
          "execution_count": 48
        }
      ]
    },
    {
      "cell_type": "code",
      "source": [
        "print(\"Consejos_1\")\n",
        "res[0][\"Consejos_1\"]"
      ],
      "metadata": {
        "colab": {
          "base_uri": "https://localhost:8080/"
        },
        "id": "_e1G3Doix63K",
        "outputId": "729685fb-3116-40d0-a3a9-84f74a298c88"
      },
      "execution_count": 49,
      "outputs": [
        {
          "output_type": "stream",
          "name": "stdout",
          "text": [
            "Consejos_1\n"
          ]
        },
        {
          "output_type": "execute_result",
          "data": {
            "text/plain": [
              "['Se recomienda que para la actividad TRAZADO todos los recursos sean utilizados, ya que, se detecta que hay aproximadamente 50% de recursos inactivos, es decir, en todo momento hay por lo menos 1 recursos disponibles']"
            ]
          },
          "metadata": {},
          "execution_count": 49
        }
      ]
    },
    {
      "cell_type": "code",
      "source": [
        "print(\"Mejor Variante\")\n",
        "res[0][\"Mejor Variante\"]"
      ],
      "metadata": {
        "colab": {
          "base_uri": "https://localhost:8080/",
          "height": 53
        },
        "id": "4Dc2lxu7x65f",
        "outputId": "5af86637-2bbd-4c64-b9e5-aa01d616853b"
      },
      "execution_count": 50,
      "outputs": [
        {
          "output_type": "stream",
          "name": "stdout",
          "text": [
            "Mejor Variante\n"
          ]
        },
        {
          "output_type": "execute_result",
          "data": {
            "text/plain": [
              "'trazado, corte, ensamble, deshebrado, lavado y secado, empaquetado'"
            ],
            "application/vnd.google.colaboratory.intrinsic+json": {
              "type": "string"
            }
          },
          "metadata": {},
          "execution_count": 50
        }
      ]
    },
    {
      "cell_type": "code",
      "source": [
        "print(\"Tiempo Mejor Variante Sin Tiempos Muertos\")\n",
        "res[0][\"Tiempo Mejor Variante Sin Tiempos Muertos\"]"
      ],
      "metadata": {
        "colab": {
          "base_uri": "https://localhost:8080/",
          "height": 53
        },
        "id": "9Ks2cylOx68E",
        "outputId": "59a9f9db-a7de-427c-cddb-7cff36b50db3"
      },
      "execution_count": 51,
      "outputs": [
        {
          "output_type": "stream",
          "name": "stdout",
          "text": [
            "Tiempo Mejor Variante Sin Tiempos Muertos\n"
          ]
        },
        {
          "output_type": "execute_result",
          "data": {
            "text/plain": [
              "'0 days 02:49:53.016666666'"
            ],
            "application/vnd.google.colaboratory.intrinsic+json": {
              "type": "string"
            }
          },
          "metadata": {},
          "execution_count": 51
        }
      ]
    },
    {
      "cell_type": "code",
      "source": [
        "print(\"Costo Mejor Variante\")\n",
        "res[0][\"Costo Mejor Variante\"]"
      ],
      "metadata": {
        "colab": {
          "base_uri": "https://localhost:8080/"
        },
        "id": "74al8VAnx6-N",
        "outputId": "35b976c2-b957-4cbb-b667-dbba3b44e09d"
      },
      "execution_count": 52,
      "outputs": [
        {
          "output_type": "stream",
          "name": "stdout",
          "text": [
            "Costo Mejor Variante\n"
          ]
        },
        {
          "output_type": "execute_result",
          "data": {
            "text/plain": [
              "53088.628468749994"
            ]
          },
          "metadata": {},
          "execution_count": 52
        }
      ]
    }
  ]
}